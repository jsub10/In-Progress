{
 "cells": [
  {
   "cell_type": "markdown",
   "metadata": {},
   "source": [
    "# Machine Learning for Better Invoice Routing (or Other Scheduling Problems)"
   ]
  },
  {
   "cell_type": "markdown",
   "metadata": {},
   "source": [
    "> \\[Paper\\] jamming [in a printer] is what engineers call a \"scheduling\" problem. Picture a warehouse in which thousands of packages are travelling on intersecting converyor belts. If the distance between the packages isn't carefully maintained, they will collide and pile up, creating jams. Printer designers solve this problem by making the paper path smart.\n",
    "\n",
    ">> Joshua Rothman, [_Why Paper Jams Persist_](https://www.newyorker.com/magazine/2018/02/12/why-paper-jams-persist)"
   ]
  },
  {
   "cell_type": "markdown",
   "metadata": {},
   "source": [
    "At Synaptiq we were recently asked to help with a scheduling problem of sorts. Here's how we put machine learning to use.\n",
    "\n",
    "\n",
    "## The Situation\n",
    "\n",
    "A company's Accounts Payable (AP) division receives invoices from thousands of vendors daily. Invoices go to a team of AP specialits who share the load of sorting invoices into routing queues. A specialist takes some time to route each invoice and can occasionally make a mistake in routing an invoice. The routing accuracy of specialits is high - they get it right 95% of the time.\n",
    "\n",
    "In the occasional instance when such a mistake is made, the invoice needs to be scrutinized more carefully and re-routed correctly. This \"high-touch\" scenario takes much more time than doing it correctly the first time around. \n",
    "\n",
    "When there are a large number of invoices that enter the AP system, eventually, time runs out to handle and fix these wrongly routed invoices. These invoices end up in approval limbo, and come the end of the month make it hard to efficiently and accurately close the books.\n",
    "\n",
    "## Can Machine Learning Help?\n",
    "\n",
    "AP specialits handle the difficult problem of routing invoices with aplomb. The accuracy with which they route invoices is already at 95%. It's very hard for a machine learning model to come close to this level of accuracy.\n",
    "\n",
    "But when it comes to a machine learning solution, there's more to consider than just accuracy. There's also _automation_. What if we build a machine learning model to route invoices _and then_ send the only the ones that were wrongly sorted to the AP specialists? That would cut down their workload by quite a bit and enable them to spend their time on the relatively smaller \"high-touch\" items.\n",
    "\n",
    "In this case, instead of relying on a machine learning model to route with high accuracy, we rely on the model to automate the routing of the relatively easy invoices and leave the difficult ones for the human specialists. This lets the humans concentrate on the things they do best and gives them more time to do what they do best.\n",
    "\n",
    "## Quantifying the Benefit of Automation Through Machine Learning\n",
    "\n",
    "Let's find out how and by how much machine learning can help.\n",
    "\n",
    "To quantify the benefit of automation via machine learning, we made some assumptions.\n",
    "\n",
    "- The number of invoices a vendor sends in a day can be modeled as a [Poisson process](https://www.khanacademy.org/math/statistics-probability/random-variables-stats-library/poisson-distribution/v/poisson-process-1). For a specific company we can find out this number; say, on average, 500 invoices a day. The $\\mu$ parameter in the Poisson process has to be set appropriately to equal this number.\n",
    "- Once $\\mu$ is set, the number of invoices generated per day obviously also depends on the number of vendors who are generating those invoices. We assume the company has 2,500 vendors.\n",
    "- The company has 4 AP specialists and they each deal with routing invoices 6.5 hours a day.\n",
    "- There are 20 business days a month. \n",
    "- Specialists are 95% accurate at routing invoices correctly. At best, a machine learning model is only 80% accurate in routing invoices correctly.\n",
    "- It takes on average 90 seconds for an AP specialist to route an invoice; the automated machine learning system can route an invoice in under a second.\n",
    "- Finally, we assume that it takes much longer to correctly re-route inovices that have been incorrectly routed. The time it takes to remedy this problem can take between 1 and 4 hours on average.\n",
    "\n",
    "Check out the code here."
   ]
  },
  {
   "cell_type": "markdown",
   "metadata": {},
   "source": [
    "## Results"
   ]
  },
  {
   "cell_type": "markdown",
   "metadata": {},
   "source": [
    "<img src=\"./Images/Invoice-Percentage-Estimates.png\" alt=\"Percentage Reduction in Stuck Invoices\" style=\"width: 500px;\"/>"
   ]
  },
  {
   "cell_type": "markdown",
   "metadata": {},
   "source": [
    "Even a relatively low-accuracy machine learning system can reduce the number of stuck invoices by 60% to 80% over the current baseline state. \n",
    "\n",
    "### Summary\n",
    "\n",
    "- It is very hard if not impossible for a machine learning system to replicate the accuracy of an AP specialist.\n",
    "- However, routing invoices through a machine learning system before they get to the AP specialists drastically cuts down the number of invoices that the AP specialists need to handle. \n",
    "- This frees them up to focus on a smaller number of wrongly routed invoices.\n",
    "- Because there are a smaller number of invoices to start with, there is less risk of running out of time by the month’s close.\n",
    "- Acting as an automated routing \"filter\" at the top of the invoice pipeline, even a machine learning system of moderate accuracy can significantly improve the end-of-month accruals and closing of books process.\n"
   ]
  },
  {
   "cell_type": "code",
   "execution_count": null,
   "metadata": {},
   "outputs": [],
   "source": []
  }
 ],
 "metadata": {
  "kernelspec": {
   "display_name": "Python 3",
   "language": "python",
   "name": "python3"
  },
  "language_info": {
   "codemirror_mode": {
    "name": "ipython",
    "version": 3
   },
   "file_extension": ".py",
   "mimetype": "text/x-python",
   "name": "python",
   "nbconvert_exporter": "python",
   "pygments_lexer": "ipython3",
   "version": "3.6.2"
  }
 },
 "nbformat": 4,
 "nbformat_minor": 2
}
