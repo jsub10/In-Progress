{
 "cells": [
  {
   "cell_type": "markdown",
   "metadata": {},
   "source": [
    "# Machine Learning for Better Invoice Routing (or Other Scheduling Problems)"
   ]
  },
  {
   "cell_type": "markdown",
   "metadata": {},
   "source": [
    "> \\[Paper\\] jamming [in a printer] is what engineers call a \"scheduling\" problem. Picture a warehouse in which thousands of packages are travelling on intersecting converyor belts. If the distance between the packages isn't carefully maintained, they will collide and pile up, creating jams. Printer designers solve this problem by making the paper path smart.\n",
    "\n",
    ">> Joshua Rothman, [_Why Paper Jams Persist_](https://www.newyorker.com/magazine/2018/02/12/why-paper-jams-persist)"
   ]
  },
  {
   "cell_type": "markdown",
   "metadata": {},
   "source": [
    "At Synaptiq we were recently asked to help with a scheduling problem of sorts. Here's how we can put machine learning to use.\n",
    "\n",
    "\n",
    "## The Situation\n",
    "\n",
    "A company's Accounts Payable (AP) division receives invoices from thousands of vendors daily. Invoices go to a team of AP specialists who share the load of sorting invoices into routing queues. A specialist takes some time to route each invoice and can occasionally make a mistake in routing an invoice. On the whole, AP specialists are very good at their jobs -- they they get it right 95% of the time.\n",
    "\n",
    "On the occasional instance when they make a mistake and the invoice gets wrongly routed, the invoice needs to be scrutinized more carefully and re-routed correctly. This \"high-touch\" scenario takes substantially more time to sort out.\n",
    "\n",
    "But the AP team doesn't always have the luxury of time. The monthly closing of the books is an unescapable event. When there are a large number of invoices that enter the AP process, eventually, time runs out to handle and fix a portion of the wrongly routed invoices. These invoices end up in approval limbo; come the end of the month they make it hard to efficiently and accurately close the books.\n",
    "\n",
    "\n",
    "## Can Machine Learning Help?\n",
    "\n",
    "AP specialists are great at their jobs -- their routing accuracy rate is 95%. It's very hard for a machine learning model to come close to this level of accuracy.\n",
    "\n",
    "But when it comes to a machine learning solution, there's more to consider than just accuracy. There's also _automation_. What if we build a machine learning model to route invoices _and then_ send only the ones that were wrongly sorted to the AP specialists? That would cut down their workload by quite a bit and enable them to spend their time on the relatively smaller \"high-touch\" items.\n",
    "\n",
    "In this case, instead of relying on a machine learning model to route with high accuracy, we rely on the model to automate the routing of the relatively easy invoices and leave the difficult ones for the human specialists. This lets the humans concentrate on the things they do best and gives them more time to do what they do best.\n",
    "\n",
    "\n",
    "## Quantifying the Benefit of Automation Through Machine Learning\n",
    "\n",
    "Let's find out how and by how much a machine learning model can help. Let's make some assumptions about the AP process. \\(To view the details and plug in your own values, go [here.](https://nbviewer.jupyter.org/github/jsub10/In-Progress/blob/master/Invoice-Routing-Functions.ipynb)\\)\n",
    "\n",
    "- The number of invoices a vendor sends in a day can be modeled as a [Poisson process](https://www.khanacademy.org/math/statistics-probability/random-variables-stats-library/poisson-distribution/v/poisson-process-1). The $\\mu$ parameter in the Poisson process has to be set appropriately to equal the number of invoices that get into the AP process pipleline every month.\n",
    "- Once $\\mu$ is set, the number of invoices generated per day also depends on the number of vendors who are generating those invoices. We assume the company has 2,500 vendors.\n",
    "- The company has 4 AP specialists and they each deal with routing invoices 6.5 hours a day.\n",
    "- There are 20 business days a month. \n",
    "- Specialists are 95% accurate at routing invoices correctly. At best, a machine learning model is only 80% accurate in routing invoices correctly.\n",
    "- It takes on average 90 seconds for an AP specialist to route an invoice; the automated machine learning system can route an invoice in under a second.\n",
    "- Finally, we assume that it takes much longer to correctly re-route inovices that have been incorrectly routed. The time it takes to remedy this problem can take between 1 and 4 hours on average.\n",
    "\n",
    "For more details, check out the code [here](https://nbviewer.jupyter.org/github/jsub10/In-Progress/blob/master/Invoice-Routing-Functions.ipynb)."
   ]
  },
  {
   "cell_type": "markdown",
   "metadata": {},
   "source": [
    "## Results"
   ]
  },
  {
   "cell_type": "markdown",
   "metadata": {},
   "source": [
    "<img src=\"./Images/Invoice-Indexed-Estimates.png\" alt=\"Percentage Reduction in Stuck Invoices\" style=\"width: 500px;\"/>"
   ]
  },
  {
   "cell_type": "markdown",
   "metadata": {},
   "source": [
    "Let's say the current situation results in 100 unapproved invoices at the end of the month. Even a relatively low-accuracy machine learning system can reduce the number of stuck invoices by more than half to 41 -- see the red line representing a machine learning (ML) model which is only 50% accurate in a scenario where it takes 4 hours on average to fix a routing problem. When the ML model's efficiency is increased to a moderate 70%, only 18 invoices are stuck in the system rather than 100. That's a reduction of 82% in stuck invoices.\n",
    "\n",
    "And depending on the average time it takes to fix an incorrectly routed invoice, introducing the machine learning model at the start of the AP process can eliminate the problem altogether. The yellow and grey lines show that when the accuracy of the ML model is at 70%, and it takes on average an hour to fix the problem, the problem of stuck invoices is eliminated - there are no unapproved invoices in the system at the end of the month!"
   ]
  },
  {
   "cell_type": "markdown",
   "metadata": {},
   "source": [
    "## Summary\n",
    "\n",
    "- It is very hard if not impossible for a machine learning system to replicate the accuracy of an AP specialist.\n",
    "- However, routing invoices through a machine learning system before they get to the AP specialists drastically cuts down the number of invoices that the AP specialists need to handle. \n",
    "- This frees them up to focus on a smaller number of wrongly routed invoices.\n",
    "- Because there are a smaller number of invoices to start with, there is less risk of running out of time by the month’s close.\n",
    "- Acting as an automated routing \"filter\" at the top of the invoice pipeline, even a machine learning system of moderate accuracy can significantly improve the end-of-month accruals and closing-of-books processes.\n",
    "\n",
    "For more details, check out the code [here](https://nbviewer.jupyter.org/github/jsub10/In-Progress/blob/master/Invoice-Routing-Functions.ipynb)."
   ]
  }
 ],
 "metadata": {
  "kernelspec": {
   "display_name": "Python 3",
   "language": "python",
   "name": "python3"
  },
  "language_info": {
   "codemirror_mode": {
    "name": "ipython",
    "version": 3
   },
   "file_extension": ".py",
   "mimetype": "text/x-python",
   "name": "python",
   "nbconvert_exporter": "python",
   "pygments_lexer": "ipython3",
   "version": "3.6.2"
  }
 },
 "nbformat": 4,
 "nbformat_minor": 2
}
