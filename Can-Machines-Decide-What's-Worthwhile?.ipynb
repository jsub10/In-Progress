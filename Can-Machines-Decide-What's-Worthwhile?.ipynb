{
 "cells": [
  {
   "cell_type": "markdown",
   "metadata": {},
   "source": [
    "# Can Machines Decide What's Worthwhile?\n",
    "\n",
    "## Is it Worthwhile?\n",
    "\n",
    "As a graduate student I periodically attended talks in the mathematics department. It would always be the same. A professor in the department would introduce the speaker. The speaker would read from a sheaf of papers and occasionally write or draw on the chalkboard. After an hour the speaker would finish and the professor would ask if there were any questions. Invariably there would be none. We'd all applaud the speaker and be off on our separate ways.\n",
    "\n",
    "I always left these talks a bit puzzled. Why were there no questions? Was it fear? Definitely my reason. Was it boredom? But why attend then? One thing was for sure: it couldn't have been because the talk was clear. It wasn't to a complete novice like me. But it probably wasn't clear to professional mathematicians either because of how specialized these talks were. So the professionals listened but didn't formulate any specific questions.\n",
    "\n",
    "After a few of these puzzling sessions, another reason for the silence suddenly came to me. Of course there were no questions about the paper - everyone just assumed that the speaker was not making any mistakes in reasoning in going from propositions to proof. Rather, the central question was about the *value* of the work. Is it an *interesting* topic? How *creative* are the researcher's methods? What is the paper's *contribution* to mathematics? Does it substantially advance the field? Does it lead to suprising results in other areas of mathematics?\n",
    "\n",
    "These are questions about the *value* of the paper. It's not easy to ask them at the end of a talk! Hence the silence.\n",
    "\n",
    "<img src=\"./Images/math-is-right-cartoon.png\" alt=\"the math is right...\" style=\"width: 500px;\"/>\n",
    "\n",
    "\n",
    "## A Problem for Machines?\n",
    "\n",
    "This question of value can be asked of machines too. Specifically it can be asked of the computer programs that implement machine learning. Yes, a machine can translate English to Japanese with eerie fidelity, learn to recognize faces, and distinguish malignant from benign tumors. But can machines be creative? Can they choose to learn intersting things? Can they determine that learning X is more valuable than learning Y and proceed to do just that? Can they *motivate* people to then follow them in this pursuit?\n",
    "\n",
    "We might think there's a limit to what machines can do. Here are Erik Brynjolfsson and Andrew McAfee in a *Harvard Business Review* article, [The Business of Artificial Intelligence](https://hbr.org/cover-story/2017/07/the-business-of-artificial-intelligence)\n",
    "\n",
    "> A great place to start a discussion of the limits of AI is with Pablo Picasso’s observation about computers: “But they are useless. They can only give you answers.” They’re actually far from useless, as ML’s [Machine Learning's] recent triumphs show, but Picasso’s observation still provides insight. Computers are devices for answering questions, not for posing them. That means entrepreneurs, innovators, scientists, creators, and other kinds of people who figure out what problem or opportunity to tackle next, or what new territory to explore, will continue to be essential.\n",
    "\n",
    "And here is *New York Times* columnist David Brooks on [What Data Can and Cannot Do](http://www.nytimes.com/2013/02/19/opinion/brooks-what-data-cant-do.html).\n",
    "\n",
    "> Data struggles with the social. Your brain is pretty bad at math (quick, what’s the square root of 437), but it’s excellent at social cognition. People are really good at mirroring each other’s emotional states, at detecting uncooperative behavior and at assigning value to things through emotion.\n",
    "\n",
    "> Computer-driven data analysis, on the other hand, excels at measuring the quantity of social interactions but not the quality. Network scientists can map your interactions with the six co-workers you see during 76 percent of your days, but they can’t capture your devotion to the childhood friends you see twice a year, let alone Dante’s love for Beatrice, whom he met twice.\n",
    "\n",
    "> We think the biggest and most important opportunities for human smarts in this new age of superpowerful ML lie at the intersection of two areas: figuring out what problems to work on next, and persuading a lot of people to tackle them and go along with the solutions. This is a decent definition of leadership, which is becoming much more important in the second machine age.\n",
    "\n",
    "\n",
    "## Why Not?\n",
    "\n",
    "There may be limits to what machines can do, but surely it's not the ones described above. We humans seem to know how to ask interesting questions. For machines to do the same, we just have to give them a training set that contains intersting and uninteresting questions that humans have come up with in a particular domain. There may not be an explicit rules-based pattern to creativity, but that's exactly what machine learning is for and that's exactly what machine learning is great at doing. Give a machine learning algorithm a good training set (Question, Domain, Interesting? (Yes, No)) and let it figure it out. Why not?\n",
    "\n",
    "And if measuring quality of interaction not just quantity is the issue, let the machine know about devotion level in addition to interaction frequency. Why not?\n",
    "\n",
    "Want to teach machines to motivate? Give it scripts of motivating speeches (and not-so-motivating ones) and let it do some learning. Why not?\n",
    "\n",
    "\n",
    "## Are there Limits for Creative, Interesting Machines?\n",
    "\n",
    "People widely recognized as creative (Picasso for example) have a hard time explaining exactly what it is they're doing to be that way. Ask Roger Federer to explain how he hits his glorious backhand and you're likely to get an unsatisfying answer. But here's precisely where machine learning shines -- on those things that we can do but can't specify the rules for how we get it done. We can point to great art, glorious backhands, motivating sentiments, and terrible examples of each. And as long as we can do that, machines can get very good at distinguishing the great from the run of the mill.\n",
    "\n",
    "So as long as we are able to distinguish what's interesting, creative, or worthwhile from what isn't, we can build training sets for machines to divine the patterns behind these \"traits\". The real problem is that we may not know ourselves (or there may be no answer). There's often debate about what's worthwhile. And what's worthwhile has a funny way of showing itself only years after it's been done and dusted.\n",
    "\n",
    "The real limit to what machines can accomplish could ultimately be a reflection of our own limit in answering questions like *what is it for something to be worthwhile?*"
   ]
  }
 ],
 "metadata": {
  "kernelspec": {
   "display_name": "Python 3",
   "language": "python",
   "name": "python3"
  },
  "language_info": {
   "codemirror_mode": {
    "name": "ipython",
    "version": 3
   },
   "file_extension": ".py",
   "mimetype": "text/x-python",
   "name": "python",
   "nbconvert_exporter": "python",
   "pygments_lexer": "ipython3",
   "version": "3.6.2"
  }
 },
 "nbformat": 4,
 "nbformat_minor": 2
}
